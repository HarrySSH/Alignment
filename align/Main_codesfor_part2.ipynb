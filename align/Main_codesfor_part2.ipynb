{
 "cells": [
  {
   "cell_type": "markdown",
   "metadata": {},
   "source": [
    "# Harry (Shenghuan) Sun's answers for questions"
   ]
  },
  {
   "cell_type": "markdown",
   "metadata": {},
   "source": [
    "## Part1\n",
    "\n",
    "1) For both Smith-Waterman and Needleman-Wunsch algorithms:\n",
    "    a) What are the parameters and variables required for algorithm initialization, execution, and termination?\n",
    "    b) What quantities are returned?\n",
    "    c) What is the runtime complexity?\n",
    "    \n",
    "a) For algorthims initialization, we need the orignal sequence, the score_matrix, and defining the open gap penalty and extension penalty. For excution, the align matrix is computed. And the \"flow\" when computing the alignment matrix was recorded.[This part will be expalined more delibrately in the README and code comments] When needed to calculated the alignment score, starting the right bottom coner (for NeedlemanWunsh) or the peak value (for SmithWaterman) and the alignment sequence was formed along the \"flow\". For termination, once the point reach the left or top broader ( for NeedlemanWunsh) ; zero value shown up ( for SmithWaterman), the termination happens.\n",
    "\n",
    "2) functionalities in initialization, execution and termination are shared between these algorithms? Which are not shared?\n",
    "\n",
    "Shared: The function for genrating the score matrix; generating orignial sequence from fasta files; \n",
    "\n",
    "Not shared: When initializing the align_matrix, global alignment just finds the max value (for the path), while the local alignment have one more decision to made: if the max value is still negative change it to zero and stop the alignment. Moreover, for computing the alignment score, global alignment starts from the right bottom corner and local alignment starts from the highest values whenever in the matrix. And as mentioned previous, local alignment stops when embraced the zero value. While global aligment stops only when it reach the left or top barrier.\n",
    "\n",
    "3) How does affine-gap based alignment differ from linear-gap alignment in terms of implementation?\n",
    "\n",
    "affine-gap penalty = open penalty + (n-1)* extension penalty\n",
    "For implementation, whenever we decide to claim there is a gap instead of mismatch, we need to justify whether the gap have happend or not. If have happend, then it is a extension cost, if it is complete for the previous element then give it an open gap penalty.\n",
    "\n",
    "4) Write out an API (methods, variables) with which a user could interact with your class. For each method, define what it does, the arguments and data types, the functionality, and what it returns.\n",
    "\n",
    "Please look into the README file. Thanks!"
   ]
  },
  {
   "cell_type": "markdown",
   "metadata": {},
   "source": [
    "## Part2"
   ]
  },
  {
   "cell_type": "code",
   "execution_count": 51,
   "metadata": {},
   "outputs": [
    {
     "name": "stderr",
     "output_type": "stream",
     "text": [
      "/home/jingjinglab/cw/miniconda3/envs/Harry_env/lib/python3.8/site-packages/ipykernel/ipkernel.py:287: DeprecationWarning: `should_run_async` will not call `transform_cell` automatically in the future. Please pass the result to `transformed_cell` argument and any exception that happen during thetransform in `preprocessing_exc_tuple` in IPython 7.17 and above.\n",
      "  and should_run_async(code)\n"
     ]
    }
   ],
   "source": [
    "#load codes\n",
    "\n",
    "import multiprocessing\n",
    "import fastaparser\n",
    "import glob\n",
    "import os\n",
    "import sys\n",
    "import pandas as pd \n",
    "import numpy as np\n",
    "import matplotlib.pyplot as plt\n",
    "import statistics as stat\n",
    "import sklearn.metrics as skl_metrics\n",
    "import fastaparser\n",
    "from algs import  SmithWaterman, score_matrix, NeedlemanWunsch\n",
    "import seaborn as sns\n",
    "import warnings\n",
    "\n",
    "def fxn():\n",
    "    warnings.warn(\"deprecated\", DeprecationWarning)\n",
    "\n",
    "with warnings.catch_warnings():\n",
    "    warnings.simplefilter(\"ignore\")\n",
    "    fxn()\n",
    "\n",
    "\n",
    "def compute_SmithWaterman_Score(list1, list2, truth,index,mtx_dir,gop,gep,filename):\n",
    "    print(index)\n",
    "    Align = SmithWaterman(list1[index], list2[index],mtx_dir,gop,gep)\n",
    "    #Align_scores.append(Align.compute_alignment_score())\n",
    "    #Indicators.append(ground_truth[index])\n",
    "    score = Align.compute_alignment_score()\n",
    "    with open(filename+\".txt\", \"a\") as text_file:\n",
    "        text_file.write(str(index)+'\\t'+str(truth[index])+'\\t'+str(score)+'\\n')\n",
    "        \n",
    "def compute_NeedlemanWunsch_Score(list1, list2, truth,index,mtx_dir,gop,gep,filename):\n",
    "    print(index)\n",
    "    Align = SmithWaterman(list1[index], list2[index],mtx_dir,gop,gep)\n",
    "    #Align_scores.append(Align.compute_alignment_score())\n",
    "    #Indicators.append(ground_truth[index])\n",
    "    score = Align.compute_alignment_score()\n",
    "    with open(filename+\".txt\", \"a\") as text_file:\n",
    "        text_file.write(str(index)+'\\t'+str(truth[index])+'\\t'+str(score)+'\\n')"
   ]
  },
  {
   "cell_type": "markdown",
   "metadata": {},
   "source": [
    "1) With the BLOSUM50 matrix and a gap opening cost of 11 and a gap extension cost of 3, locally align these sequences and visualize the distribution of alignment scores. How would you describe this distribution?"
   ]
  },
  {
   "cell_type": "code",
   "execution_count": 2,
   "metadata": {},
   "outputs": [
    {
     "name": "stderr",
     "output_type": "stream",
     "text": [
      "/home/jingjinglab/cw/miniconda3/envs/Harry_env/lib/python3.8/site-packages/ipykernel/ipkernel.py:287: DeprecationWarning: `should_run_async` will not call `transform_cell` automatically in the future. Please pass the result to `transformed_cell` argument and any exception that happen during thetransform in `preprocessing_exc_tuple` in IPython 7.17 and above.\n",
      "  and should_run_async(code)\n"
     ]
    }
   ],
   "source": [
    "# read the direction of all sequence pairs and record the ground truth. Pospairs as 1 and Negpairs as 0\n",
    "\n",
    "\n",
    "ground_truth  = []\n",
    "sequence_dirA = []\n",
    "sequence_dirB = []\n",
    "with open('../scoring_matrices/Negpairs.txt' , 'r') as f:\n",
    "    \n",
    "    \n",
    "    for line in f:\n",
    "        line = line.replace('\\n','')\n",
    "        seq1 = '../'+line.split(' ')[0]\n",
    "        seq2 = '../'+line.split(' ')[1]\n",
    "        sequence_dirA.append(seq1)\n",
    "        sequence_dirB.append(seq2)\n",
    "        ground_truth.append(0)\n",
    "\n",
    "with open('../scoring_matrices/Pospairs.txt' , 'r') as f:\n",
    "    \n",
    "    \n",
    "    for line in f:\n",
    "     \n",
    "        line = line.replace('\\n','')\n",
    "    \n",
    "        seq1 = '../'+line.split(' ')[0]\n",
    "        seq2 = '../'+line.split(' ')[1]\n",
    "     \n",
    "        sequence_dirA.append(seq1)\n",
    "        sequence_dirB.append(seq2)\n",
    "        ground_truth.append(1)\n",
    "        \n"
   ]
  },
  {
   "cell_type": "code",
   "execution_count": null,
   "metadata": {},
   "outputs": [],
   "source": [
    "for i in range(0,len(sequence_dirA)):\n",
    "    compute_SmithWaterman_Score(sequence_dirA,sequence_dirB, ground_truth, i ,'../scoring_matrices/BLOSUM50.mat',11,3,'BLOSUM50_11_3.txt')"
   ]
  },
  {
   "cell_type": "code",
   "execution_count": 47,
   "metadata": {
    "scrolled": true
   },
   "outputs": [
    {
     "name": "stderr",
     "output_type": "stream",
     "text": [
      "/home/jingjinglab/cw/miniconda3/envs/Harry_env/lib/python3.8/site-packages/ipykernel/ipkernel.py:287: DeprecationWarning: `should_run_async` will not call `transform_cell` automatically in the future. Please pass the result to `transformed_cell` argument and any exception that happen during thetransform in `preprocessing_exc_tuple` in IPython 7.17 and above.\n",
      "  and should_run_async(code)\n"
     ]
    }
   ],
   "source": [
    "table = pd.read_csv('BLOSUM50_11_3.txt.txt', sep ='\\t', header = None, index_col= None)"
   ]
  },
  {
   "cell_type": "code",
   "execution_count": 64,
   "metadata": {},
   "outputs": [
    {
     "name": "stderr",
     "output_type": "stream",
     "text": [
      "/home/jingjinglab/cw/miniconda3/envs/Harry_env/lib/python3.8/site-packages/ipykernel/ipkernel.py:287: DeprecationWarning: `should_run_async` will not call `transform_cell` automatically in the future. Please pass the result to `transformed_cell` argument and any exception that happen during thetransform in `preprocessing_exc_tuple` in IPython 7.17 and above.\n",
      "  and should_run_async(code)\n",
      "/home/jingjinglab/cw/miniconda3/envs/Harry_env/lib/python3.8/site-packages/seaborn/_decorators.py:36: FutureWarning: Pass the following variables as keyword args: x, y. From version 0.12, the only valid positional argument will be `data`, and passing other arguments without an explicit keyword will result in an error or misinterpretation.\n",
      "  warnings.warn(\n"
     ]
    },
    {
     "data": {
      "image/png": "[encoded data removed]",
      "text/plain": [
       "<Figure size 432x288 with 1 Axes>"
      ]
     },
     "metadata": {},
     "output_type": "display_data"
    }
   ],
   "source": [
    "sns.set(style ='whitegrid')\n",
    "\n",
    "ax = sns.boxplot(table[1],table[2], showfliers=False )\n",
    "#ax = sns.swarmplot(table[1], table[2], color = '.25', showfliers =False)\n"
   ]
  },
  {
   "cell_type": "markdown",
   "metadata": {},
   "source": [
    "Answer: Based on the distribution, we found out that the positive paired sequences tend to have higher scores. "
   ]
  },
  {
   "cell_type": "markdown",
   "metadata": {},
   "source": [
    "2) Generate a confusion matrix indicating the frequency of false positives, falsenegatives, true positives, and true negatives when using the average alignmentscore as a threshold. What is the threshold value, and how does the confusionmatrix suggest this algorithm performed?"
   ]
  },
  {
   "cell_type": "code",
   "execution_count": 67,
   "metadata": {},
   "outputs": [
    {
     "name": "stderr",
     "output_type": "stream",
     "text": [
      "/home/jingjinglab/cw/miniconda3/envs/Harry_env/lib/python3.8/site-packages/ipykernel/ipkernel.py:287: DeprecationWarning: `should_run_async` will not call `transform_cell` automatically in the future. Please pass the result to `transformed_cell` argument and any exception that happen during thetransform in `preprocessing_exc_tuple` in IPython 7.17 and above.\n",
      "  and should_run_async(code)\n"
     ]
    },
    {
     "data": {
      "text/plain": [
       "<sklearn.metrics._plot.confusion_matrix.ConfusionMatrixDisplay at 0x7f09293f7520>"
      ]
     },
     "execution_count": 67,
     "metadata": {},
     "output_type": "execute_result"
    },
    {
     "data": {
      "image/png": "[encoded data removed]",
      "text/plain": [
       "<Figure size 432x288 with 2 Axes>"
      ]
     },
     "metadata": {},
     "output_type": "display_data"
    }
   ],
   "source": [
    "average = stat.mean(table[2])\n",
    "Predict = [int(x) for x in [x >average for x in table[2]]]\n",
    "cm = skl_metrics.confusion_matrix( ground_truth,Predict)\n",
    "cm_display = skl_metrics.ConfusionMatrixDisplay(cm)\n",
    "cm_display.plot()"
   ]
  },
  {
   "cell_type": "markdown",
   "metadata": {},
   "source": [
    "Answer: Based on the confusion matrix, we found that the average threshold can generally selecting the negative pairs well. TN/(TN+FP) = 94% However, the average threshold can not select the positive pairs well. TP/(TP+FN) = 0.4"
   ]
  },
  {
   "cell_type": "markdown",
   "metadata": {},
   "source": [
    "3) Create a ROC plot which shows the fraction of true positives on the Y axis and the fraction of false positives on the X axis. Please take care to make your ROC plots square, with both X and Y axes limited to the range [0:1]."
   ]
  },
  {
   "cell_type": "code",
   "execution_count": 71,
   "metadata": {},
   "outputs": [
    {
     "name": "stderr",
     "output_type": "stream",
     "text": [
      "/home/jingjinglab/cw/miniconda3/envs/Harry_env/lib/python3.8/site-packages/ipykernel/ipkernel.py:287: DeprecationWarning: `should_run_async` will not call `transform_cell` automatically in the future. Please pass the result to `transformed_cell` argument and any exception that happen during thetransform in `preprocessing_exc_tuple` in IPython 7.17 and above.\n",
      "  and should_run_async(code)\n"
     ]
    },
    {
     "data": {
      "image/png": "[encoded data removed]",
      "text/plain": [
       "<Figure size 432x288 with 1 Axes>"
      ]
     },
     "metadata": {},
     "output_type": "display_data"
    }
   ],
   "source": [
    "Predict_ratio = [(x - min(table[2])/(max(table[2]) - min(table[2]))) for x in table[2]]\n",
    "fpr, tpr, _ = skl_metrics.roc_curve(ground_truth, Predict_ratio, pos_label=1)\n",
    "roc_display = skl_metrics.RocCurveDisplay(fpr=fpr, tpr=tpr).plot()"
   ]
  },
  {
   "cell_type": "markdown",
   "metadata": {},
   "source": [
    "4) Determine the area under the ROC curve (AUROC). What does this value indicate about the performance of this algorithm? Can you confidently assess the performance of this algorithm with this value alone? Why or why not?"
   ]
  },
  {
   "cell_type": "code",
   "execution_count": 70,
   "metadata": {},
   "outputs": [
    {
     "name": "stderr",
     "output_type": "stream",
     "text": [
      "/home/jingjinglab/cw/miniconda3/envs/Harry_env/lib/python3.8/site-packages/ipykernel/ipkernel.py:287: DeprecationWarning: `should_run_async` will not call `transform_cell` automatically in the future. Please pass the result to `transformed_cell` argument and any exception that happen during thetransform in `preprocessing_exc_tuple` in IPython 7.17 and above.\n",
      "  and should_run_async(code)\n"
     ]
    },
    {
     "data": {
      "text/plain": [
       "0.7595999999999999"
      ]
     },
     "execution_count": 70,
     "metadata": {},
     "output_type": "execute_result"
    }
   ],
   "source": [
    "skl_metrics.roc_auc_score(ground_truth, Predict_ratio)"
   ]
  },
  {
   "cell_type": "markdown",
   "metadata": {},
   "source": [
    "Answer: It has a acceptable ability in disdinguishing between Pospairs and Negpairs. However, it is not working perfectly. We cannot only use this, because it is only local alignment which immediately stop after embracing one zero value. Let's say if there is a repeatitive alignments, this method will underestimate the results. Also the paramemter ( open gap penalty and extension gap penalty) might need to be optimized."
   ]
  },
  {
   "cell_type": "markdown",
   "metadata": {},
   "source": [
    "5) Once again, using local alignment, try a range of gap opening (1-20) and gap extension (1-5) costs with the BLOSUM62 matrix. Using the AUROC of each approach, determine which gap penalty performs the “best”. What does this pair of values suggest about the evolution of these sequences and the likelihood of insertions / deletions?"
   ]
  },
  {
   "cell_type": "code",
   "execution_count": null,
   "metadata": {},
   "outputs": [],
   "source": []
  },
  {
   "cell_type": "code",
   "execution_count": 11,
   "metadata": {},
   "outputs": [
    {
     "name": "stderr",
     "output_type": "stream",
     "text": [
      "/home/jingjinglab/cw/miniconda3/envs/Harry_env/lib/python3.8/site-packages/ipykernel/ipkernel.py:287: DeprecationWarning: `should_run_async` will not call `transform_cell` automatically in the future. Please pass the result to `transformed_cell` argument and any exception that happen during thetransform in `preprocessing_exc_tuple` in IPython 7.17 and above.\n",
      "  and should_run_async(code)\n"
     ]
    },
    {
     "ename": "SyntaxError",
     "evalue": "invalid syntax (<ipython-input-11-36ea9740a899>, line 1)",
     "output_type": "error",
     "traceback": [
      "\u001b[0;36m  File \u001b[0;32m\"<ipython-input-11-36ea9740a899>\"\u001b[0;36m, line \u001b[0;32m1\u001b[0m\n\u001b[0;31m    hkkufor i in range(1,21):\u001b[0m\n\u001b[0m            ^\u001b[0m\n\u001b[0;31mSyntaxError\u001b[0m\u001b[0;31m:\u001b[0m invalid syntax\n"
     ]
    }
   ],
   "source": [
    "# Don't run this ... it can take a while ... I did this on the server. Please read mult_task.py if you need more information,\n",
    "# Thanks\n",
    "for i in range(1,21):\n",
    "    for j in range(1,6):\n",
    "        label = str(i) + '+' + str(j)\n",
    "        print('nohup python mult_task.py --gep '+str(i)+ ' --gop '+ str(j)+ ' >log/'+label+'.log &')\n",
    "        os.system('nohup python mult_task.py --gep '+str(i)+ ' --gop '+ str(j)+ ' >log/'+label+'.log &')"
   ]
  },
  {
   "cell_type": "code",
   "execution_count": 74,
   "metadata": {},
   "outputs": [
    {
     "name": "stderr",
     "output_type": "stream",
     "text": [
      "/home/jingjinglab/cw/miniconda3/envs/Harry_env/lib/python3.8/site-packages/ipykernel/ipkernel.py:287: DeprecationWarning: `should_run_async` will not call `transform_cell` automatically in the future. Please pass the result to `transformed_cell` argument and any exception that happen during thetransform in `preprocessing_exc_tuple` in IPython 7.17 and above.\n",
      "  and should_run_async(code)\n"
     ]
    }
   ],
   "source": [
    "roc_scores = []\n",
    "IDs = []\n",
    "GOP = range(1,21)\n",
    "GEP = range(1,6)\n",
    "for i in GOP:\n",
    "    for j in GEP:\n",
    "        ID = str(i)+'-'+str(j)\n",
    "        IDs.append(ID)\n",
    "        table = pd.read_csv(ID+'.txt', sep ='\\t', header = None, index_col= None)\n",
    "        Predict_ratio = [(x - min(table[2])/(max(table[2]) - min(table[2]))) for x in table[2]]\n",
    "        fpr, tpr, _ = skl_metrics.roc_curve(ground_truth, Predict_ratio, pos_label=1)\n",
    "        #roc_display = skl_metrics.RocCurveDisplay(fpr=fpr, tpr=tpr).plot()\n",
    "        roc_scores.append(skl_metrics.roc_auc_score(ground_truth, Predict_ratio))\n",
    "        "
   ]
  },
  {
   "cell_type": "code",
   "execution_count": 76,
   "metadata": {
    "scrolled": true
   },
   "outputs": [
    {
     "name": "stdout",
     "output_type": "stream",
     "text": [
      "5-4\n",
      "0.8368\n"
     ]
    },
    {
     "name": "stderr",
     "output_type": "stream",
     "text": [
      "/home/jingjinglab/cw/miniconda3/envs/Harry_env/lib/python3.8/site-packages/ipykernel/ipkernel.py:287: DeprecationWarning: `should_run_async` will not call `transform_cell` automatically in the future. Please pass the result to `transformed_cell` argument and any exception that happen during thetransform in `preprocessing_exc_tuple` in IPython 7.17 and above.\n",
      "  and should_run_async(code)\n"
     ]
    },
    {
     "data": {
      "image/png": "[encoded data removed]",
      "text/plain": [
       "<Figure size 432x288 with 1 Axes>"
      ]
     },
     "metadata": {},
     "output_type": "display_data"
    }
   ],
   "source": [
    "ID = IDs[int(np.where(roc_scores == max(roc_scores))[0])]\n",
    "print(ID)\n",
    "table = pd.read_csv(ID+'.txt', sep ='\\t', header = None, index_col= None)\n",
    "Predict_ratio = [(x - min(table[2])/(max(table[2]) - min(table[2]))) for x in table[2]]\n",
    "fpr, tpr, _ = skl_metrics.roc_curve(ground_truth, Predict_ratio, pos_label=1)\n",
    "roc_display = skl_metrics.RocCurveDisplay(fpr=fpr, tpr=tpr).plot()\n",
    "print(skl_metrics.roc_auc_score(ground_truth, Predict_ratio))"
   ]
  },
  {
   "cell_type": "markdown",
   "metadata": {
    "scrolled": false
   },
   "source": [
    "Answer: Based on my results, the combination of open penalty 5 and extension penalty 4 is the best for disdinguish the positive and negitive. This might indicate that the pairs are more like to have more mismatchs or small indel rather than very big gap since if there is very big gap, a strong open penalty would help the selection. Based on my results, the open penalty and extension penalty are similar values"
   ]
  },
  {
   "cell_type": "markdown",
   "metadata": {},
   "source": [
    "6)\n",
    "Using the BLOSUM50, BLOSUM62, PAM100 and PAM250 scoring matrices,\n",
    "evaluate the performance of the global alignment algorithm using the selected\n",
    "pair of best performing gap penalties. Evaluate your optional additional\n",
    "extension algorithm as well, using the parameters it requires.\n",
    "\n",
    "For each algorithm, generate a ROC plot demonstrating performance using\n",
    "each of the 4 matrices, given the fixed gap costs. Of all these algorithms, which\n",
    "performs the best as measured by AUROC?\n"
   ]
  },
  {
   "cell_type": "code",
   "execution_count": null,
   "metadata": {},
   "outputs": [],
   "source": [
    "\n",
    "for i in range(0,100):\n",
    "    compute_NeedlemanWunsch_Score(sequence_dirA,sequence_dirB, ground_truth, i ,'../scoring_matrices/BLOSUM50.mat',5,4,'N_BLO50_5_4')\n",
    "    compute_NeedlemanWunsch_Score(sequence_dirA,sequence_dirB, ground_truth, i ,'../scoring_matrices/BLOSUM62.mat',5,4,'N_BLO62_5_4')\n",
    "    compute_NeedlemanWunsch_Score(sequence_dirA,sequence_dirB, ground_truth, i ,'../scoring_matrices/PAM100.mat',5,4,'N_PAM100_5_4')\n",
    "    compute_NeedlemanWunsch_Score(sequence_dirA,sequence_dirB, ground_truth, i ,'../scoring_matrices/PAM250.mat',5,4,'N_PAM250_5_4')                              "
   ]
  },
  {
   "cell_type": "code",
   "execution_count": 42,
   "metadata": {},
   "outputs": [
    {
     "name": "stdout",
     "output_type": "stream",
     "text": [
      "0.8208\n"
     ]
    },
    {
     "name": "stderr",
     "output_type": "stream",
     "text": [
      "/home/jingjinglab/cw/miniconda3/envs/Harry_env/lib/python3.8/site-packages/ipykernel/ipkernel.py:287: DeprecationWarning: `should_run_async` will not call `transform_cell` automatically in the future. Please pass the result to `transformed_cell` argument and any exception that happen during thetransform in `preprocessing_exc_tuple` in IPython 7.17 and above.\n",
      "  and should_run_async(code)\n"
     ]
    },
    {
     "data": {
      "image/png": "[encoded data removed]",
      "text/plain": [
       "<Figure size 432x288 with 1 Axes>"
      ]
     },
     "metadata": {
      "needs_background": "light"
     },
     "output_type": "display_data"
    }
   ],
   "source": [
    "#N_PAM250         \n",
    "table = pd.read_csv('N_PAM250_5_4.txt', sep ='\\t', header = None, index_col= None)\n",
    "\n",
    "#table = pd.read_csv(ID+'.txt', sep ='\\t', header = None, index_col= None)\n",
    "Predict_ratio = [(x - min(table[2])/(max(table[2]) - min(table[2]))) for x in table[2]]\n",
    "fpr, tpr, _ = skl_metrics.roc_curve(ground_truth, Predict_ratio, pos_label=1)\n",
    "roc_display = skl_metrics.RocCurveDisplay(fpr=fpr, tpr=tpr).plot()\n",
    "print(skl_metrics.roc_auc_score(ground_truth, Predict_ratio))\n",
    "\n"
   ]
  },
  {
   "cell_type": "code",
   "execution_count": 43,
   "metadata": {},
   "outputs": [
    {
     "name": "stdout",
     "output_type": "stream",
     "text": [
      "0.5438000000000001\n"
     ]
    },
    {
     "name": "stderr",
     "output_type": "stream",
     "text": [
      "/home/jingjinglab/cw/miniconda3/envs/Harry_env/lib/python3.8/site-packages/ipykernel/ipkernel.py:287: DeprecationWarning: `should_run_async` will not call `transform_cell` automatically in the future. Please pass the result to `transformed_cell` argument and any exception that happen during thetransform in `preprocessing_exc_tuple` in IPython 7.17 and above.\n",
      "  and should_run_async(code)\n"
     ]
    },
    {
     "data": {
      "image/png": "[encoded data removed]",
      "text/plain": [
       "<Figure size 432x288 with 1 Axes>"
      ]
     },
     "metadata": {
      "needs_background": "light"
     },
     "output_type": "display_data"
    }
   ],
   "source": [
    "#N_PAM100         \n",
    "table = pd.read_csv('N_PAM100_5_4.txt', sep ='\\t', header = None, index_col= None)\n",
    "\n",
    "\n",
    "Predict_ratio = [(x - min(table[2])/(max(table[2]) - min(table[2]))) for x in table[2]]\n",
    "fpr, tpr, _ = skl_metrics.roc_curve(ground_truth, Predict_ratio, pos_label=1)\n",
    "roc_display = skl_metrics.RocCurveDisplay(fpr=fpr, tpr=tpr).plot()\n",
    "print(skl_metrics.roc_auc_score(ground_truth, Predict_ratio))"
   ]
  },
  {
   "cell_type": "code",
   "execution_count": 44,
   "metadata": {
    "scrolled": true
   },
   "outputs": [
    {
     "name": "stdout",
     "output_type": "stream",
     "text": [
      "0.6952\n"
     ]
    },
    {
     "name": "stderr",
     "output_type": "stream",
     "text": [
      "/home/jingjinglab/cw/miniconda3/envs/Harry_env/lib/python3.8/site-packages/ipykernel/ipkernel.py:287: DeprecationWarning: `should_run_async` will not call `transform_cell` automatically in the future. Please pass the result to `transformed_cell` argument and any exception that happen during thetransform in `preprocessing_exc_tuple` in IPython 7.17 and above.\n",
      "  and should_run_async(code)\n"
     ]
    },
    {
     "data": {
      "image/png": "[encoded data removed]",
      "text/plain": [
       "<Figure size 432x288 with 1 Axes>"
      ]
     },
     "metadata": {
      "needs_background": "light"
     },
     "output_type": "display_data"
    }
   ],
   "source": [
    "#N_BLOSUM62         \n",
    "table = pd.read_csv('N_BLO62_5_4.txt', sep ='\\t', header = None, index_col= None)\n",
    "\n",
    "#table = pd.read_csv(ID+'.txt', sep ='\\t', header = None, index_col= None)\n",
    "Predict_ratio = [(x - min(table[2])/(max(table[2]) - min(table[2]))) for x in table[2]]\n",
    "fpr, tpr, _ = skl_metrics.roc_curve(ground_truth, Predict_ratio, pos_label=1)\n",
    "roc_display = skl_metrics.RocCurveDisplay(fpr=fpr, tpr=tpr).plot()\n",
    "print(skl_metrics.roc_auc_score(ground_truth, Predict_ratio))"
   ]
  },
  {
   "cell_type": "code",
   "execution_count": 45,
   "metadata": {},
   "outputs": [
    {
     "name": "stdout",
     "output_type": "stream",
     "text": [
      "0.8171999999999999\n"
     ]
    },
    {
     "name": "stderr",
     "output_type": "stream",
     "text": [
      "/home/jingjinglab/cw/miniconda3/envs/Harry_env/lib/python3.8/site-packages/ipykernel/ipkernel.py:287: DeprecationWarning: `should_run_async` will not call `transform_cell` automatically in the future. Please pass the result to `transformed_cell` argument and any exception that happen during thetransform in `preprocessing_exc_tuple` in IPython 7.17 and above.\n",
      "  and should_run_async(code)\n"
     ]
    },
    {
     "data": {
      "image/png": "[encoded data removed]",
      "text/plain": [
       "<Figure size 432x288 with 1 Axes>"
      ]
     },
     "metadata": {
      "needs_background": "light"
     },
     "output_type": "display_data"
    }
   ],
   "source": [
    "#N_BLOSUM50         \n",
    "table = pd.read_csv('N_BLO50_5_4.txt', sep ='\\t', header = None, index_col= None)\n",
    "\n",
    "#table = pd.read_csv(ID+'.txt', sep ='\\t', header = None, index_col= None)\n",
    "Predict_ratio = [(x - min(table[2])/(max(table[2]) - min(table[2]))) for x in table[2]]\n",
    "fpr, tpr, _ = skl_metrics.roc_curve(ground_truth, Predict_ratio, pos_label=1)\n",
    "roc_display = skl_metrics.RocCurveDisplay(fpr=fpr, tpr=tpr).plot()\n",
    "print(skl_metrics.roc_auc_score(ground_truth, Predict_ratio))"
   ]
  },
  {
   "cell_type": "markdown",
   "metadata": {},
   "source": [
    "Answer: Given the fix values,for global allignment. PAM250 has the best result. BLOSUM50 is slightly lower that PAM250. PAM100 and BLOSUM give relative poor results"
   ]
  },
  {
   "cell_type": "markdown",
   "metadata": {},
   "source": [
    "7) For each algorithm, generate a ROC plot demonstrating performance using\n",
    "each of the 4 matrices, given the fixed gap costs. Of all these algorithms, which\n",
    "performs the best as measured by AUROC?"
   ]
  },
  {
   "cell_type": "code",
   "execution_count": 37,
   "metadata": {},
   "outputs": [
    {
     "name": "stdout",
     "output_type": "stream",
     "text": [
      "0.7718\n"
     ]
    },
    {
     "name": "stderr",
     "output_type": "stream",
     "text": [
      "/home/jingjinglab/cw/miniconda3/envs/Harry_env/lib/python3.8/site-packages/ipykernel/ipkernel.py:287: DeprecationWarning: `should_run_async` will not call `transform_cell` automatically in the future. Please pass the result to `transformed_cell` argument and any exception that happen during thetransform in `preprocessing_exc_tuple` in IPython 7.17 and above.\n",
      "  and should_run_async(code)\n"
     ]
    },
    {
     "data": {
      "image/png": "[encoded data removed]",
      "text/plain": [
       "<Figure size 432x288 with 1 Axes>"
      ]
     },
     "metadata": {
      "needs_background": "light"
     },
     "output_type": "display_data"
    }
   ],
   "source": [
    "#BLOSUM50         \n",
    "table = pd.read_csv('BLOSUM50_5_4.txt', sep ='\\t', header = None, index_col= None)\n",
    "\n",
    "#table = pd.read_csv(ID+'.txt', sep ='\\t', header = None, index_col= None)\n",
    "Predict_ratio = [(x - min(table[2])/(max(table[2]) - min(table[2]))) for x in table[2]]\n",
    "fpr, tpr, _ = skl_metrics.roc_curve(ground_truth, Predict_ratio, pos_label=1)\n",
    "roc_display = skl_metrics.RocCurveDisplay(fpr=fpr, tpr=tpr).plot()\n",
    "print(skl_metrics.roc_auc_score(ground_truth, Predict_ratio))"
   ]
  },
  {
   "cell_type": "code",
   "execution_count": 39,
   "metadata": {},
   "outputs": [
    {
     "name": "stdout",
     "output_type": "stream",
     "text": [
      "0.8368\n"
     ]
    },
    {
     "name": "stderr",
     "output_type": "stream",
     "text": [
      "/home/jingjinglab/cw/miniconda3/envs/Harry_env/lib/python3.8/site-packages/ipykernel/ipkernel.py:287: DeprecationWarning: `should_run_async` will not call `transform_cell` automatically in the future. Please pass the result to `transformed_cell` argument and any exception that happen during thetransform in `preprocessing_exc_tuple` in IPython 7.17 and above.\n",
      "  and should_run_async(code)\n"
     ]
    },
    {
     "data": {
      "image/png": "[encoded data removed]",
      "text/plain": [
       "<Figure size 432x288 with 1 Axes>"
      ]
     },
     "metadata": {
      "needs_background": "light"
     },
     "output_type": "display_data"
    }
   ],
   "source": [
    "#BLOSUM62        \n",
    "table = pd.read_csv('5-4.txt', sep ='\\t', header = None, index_col= None)\n",
    "\n",
    "#table = pd.read_csv(ID+'.txt', sep ='\\t', header = None, index_col= None)\n",
    "Predict_ratio = [(x - min(table[2])/(max(table[2]) - min(table[2]))) for x in table[2]]\n",
    "fpr, tpr, _ = skl_metrics.roc_curve(ground_truth, Predict_ratio, pos_label=1)\n",
    "roc_display = skl_metrics.RocCurveDisplay(fpr=fpr, tpr=tpr).plot()\n",
    "print(skl_metrics.roc_auc_score(ground_truth, Predict_ratio))"
   ]
  },
  {
   "cell_type": "code",
   "execution_count": 40,
   "metadata": {},
   "outputs": [
    {
     "name": "stdout",
     "output_type": "stream",
     "text": [
      "0.7748\n"
     ]
    },
    {
     "name": "stderr",
     "output_type": "stream",
     "text": [
      "/home/jingjinglab/cw/miniconda3/envs/Harry_env/lib/python3.8/site-packages/ipykernel/ipkernel.py:287: DeprecationWarning: `should_run_async` will not call `transform_cell` automatically in the future. Please pass the result to `transformed_cell` argument and any exception that happen during thetransform in `preprocessing_exc_tuple` in IPython 7.17 and above.\n",
      "  and should_run_async(code)\n"
     ]
    },
    {
     "data": {
      "image/png": "[encoded data removed]",
      "text/plain": [
       "<Figure size 432x288 with 1 Axes>"
      ]
     },
     "metadata": {
      "needs_background": "light"
     },
     "output_type": "display_data"
    }
   ],
   "source": [
    "#PAM250        \n",
    "table = pd.read_csv('PAM250_5_4.txt', sep ='\\t', header = None, index_col= None)\n",
    "\n",
    "#table = pd.read_csv(ID+'.txt', sep ='\\t', header = None, index_col= None)\n",
    "Predict_ratio = [(x - min(table[2])/(max(table[2]) - min(table[2]))) for x in table[2]]\n",
    "fpr, tpr, _ = skl_metrics.roc_curve(ground_truth, Predict_ratio, pos_label=1)\n",
    "roc_display = skl_metrics.RocCurveDisplay(fpr=fpr, tpr=tpr).plot()\n",
    "print(skl_metrics.roc_auc_score(ground_truth, Predict_ratio))"
   ]
  },
  {
   "cell_type": "code",
   "execution_count": 41,
   "metadata": {},
   "outputs": [
    {
     "name": "stdout",
     "output_type": "stream",
     "text": [
      "0.8380000000000001\n"
     ]
    },
    {
     "name": "stderr",
     "output_type": "stream",
     "text": [
      "/home/jingjinglab/cw/miniconda3/envs/Harry_env/lib/python3.8/site-packages/ipykernel/ipkernel.py:287: DeprecationWarning: `should_run_async` will not call `transform_cell` automatically in the future. Please pass the result to `transformed_cell` argument and any exception that happen during thetransform in `preprocessing_exc_tuple` in IPython 7.17 and above.\n",
      "  and should_run_async(code)\n"
     ]
    },
    {
     "data": {
      "image/png": "[encoded data removed]",
      "text/plain": [
       "<Figure size 432x288 with 1 Axes>"
      ]
     },
     "metadata": {
      "needs_background": "light"
     },
     "output_type": "display_data"
    }
   ],
   "source": [
    "#PAM100        \n",
    "table = pd.read_csv('PAM100_5_4.txt', sep ='\\t', header = None, index_col= None)\n",
    "\n",
    "#table = pd.read_csv(ID+'.txt', sep ='\\t', header = None, index_col= None)\n",
    "Predict_ratio = [(x - min(table[2])/(max(table[2]) - min(table[2]))) for x in table[2]]\n",
    "fpr, tpr, _ = skl_metrics.roc_curve(ground_truth, Predict_ratio, pos_label=1)\n",
    "roc_display = skl_metrics.RocCurveDisplay(fpr=fpr, tpr=tpr).plot()\n",
    "print(skl_metrics.roc_auc_score(ground_truth, Predict_ratio))"
   ]
  },
  {
   "cell_type": "markdown",
   "metadata": {},
   "source": [
    "Answer: For these two alignment methods,given all the four score matirx, the best one is PAM100, local alignment."
   ]
  },
  {
   "cell_type": "markdown",
   "metadata": {},
   "source": [
    "8) Comment qualitatively on the best algorithm. What does the best performing algorithm indicate about the origin of these sequences?"
   ]
  },
  {
   "cell_type": "markdown",
   "metadata": {},
   "source": [
    "Answer: The best alignment has a roc_auc_score 83.8, which is a relative good performance. We can see: at the false positive rate zero, the true positive rate can reach to around 0.25. And when the False positive rate reaches 0.4, the model already has a true positive rate 0.8\n",
    "\n",
    "For understanding the origin of sequences, given PAM100 (Point accepted mutation) were developed for specific amounts of change or moloecular evolution. The origin for these sequences can be close to each other. And the large insertion or deletion should be less frequent. \n",
    "    \n"
   ]
  },
  {
   "cell_type": "code",
   "execution_count": null,
   "metadata": {},
   "outputs": [],
   "source": []
  }
 ],
 "metadata": {
  "kernelspec": {
   "display_name": "Python 3",
   "language": "python",
   "name": "python3"
  },
  "language_info": {
   "codemirror_mode": {
    "name": "ipython",
    "version": 3
   },
   "file_extension": ".py",
   "mimetype": "text/x-python",
   "name": "python",
   "nbconvert_exporter": "python",
   "pygments_lexer": "ipython3",
   "version": "3.8.5"
  }
 },
 "nbformat": 4,
 "nbformat_minor": 4
}
